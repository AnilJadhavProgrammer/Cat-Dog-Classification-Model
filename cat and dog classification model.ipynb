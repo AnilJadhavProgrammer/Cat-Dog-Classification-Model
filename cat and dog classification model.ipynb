{
 "cells": [
  {
   "cell_type": "code",
   "execution_count": 1,
   "id": "2fc61ed5-fe40-4496-a3e9-162de8b63cf4",
   "metadata": {},
   "outputs": [],
   "source": [
    "import os\n",
    "import numpy as np\n",
    "from tensorflow.keras.models import Sequential\n",
    "from tensorflow.keras.layers import Conv2D, MaxPooling2D, Flatten, Dense, Dropout\n",
    "from tensorflow.keras.preprocessing.image import ImageDataGenerator\n",
    "from tensorflow.keras.preprocessing.image import load_img, img_to_array\n",
    "import matplotlib.pyplot as plt\n"
   ]
  },
  {
   "cell_type": "code",
   "execution_count": 2,
   "id": "a3cd3a70-58fa-49a2-bb9c-f269c4e41348",
   "metadata": {},
   "outputs": [
    {
     "name": "stdout",
     "output_type": "stream",
     "text": [
      "Found 8005 images belonging to 2 classes.\n",
      "Found 2023 images belonging to 2 classes.\n"
     ]
    }
   ],
   "source": [
    "train_dir = \"C:/Users/Anil PC/Downloads/archive/training_set/training_set\" \n",
    "test_dir = \"C:/Users/Anil PC/Downloads/archive/test_set/test_set\"   \n",
    "\n",
    "train_datagen = ImageDataGenerator(\n",
    "    rescale=1.0 / 255.0,  \n",
    "    rotation_range=20,\n",
    "    width_shift_range=0.2,\n",
    "    height_shift_range=0.2,\n",
    "    shear_range=0.2,\n",
    "    zoom_range=0.2,\n",
    "    horizontal_flip=True,\n",
    ")\n",
    "\n",
    "test_datagen = ImageDataGenerator(rescale=1.0 / 255.0)\n",
    "\n",
    "train_generator = train_datagen.flow_from_directory(\n",
    "    train_dir,\n",
    "    target_size=(128, 128),  \n",
    "    batch_size=32,\n",
    "    class_mode=\"categorical\",  \n",
    ")\n",
    "\n",
    "test_generator = test_datagen.flow_from_directory(\n",
    "    test_dir,\n",
    "    target_size=(128, 128),\n",
    "    batch_size=32,\n",
    "    class_mode=\"categorical\",\n",
    ")\n"
   ]
  },
  {
   "cell_type": "code",
   "execution_count": 3,
   "id": "7251f60f-e9a0-4fc9-b7b4-1e445f3017da",
   "metadata": {},
   "outputs": [
    {
     "name": "stderr",
     "output_type": "stream",
     "text": [
      "D:\\New folder\\Lib\\site-packages\\keras\\src\\layers\\convolutional\\base_conv.py:107: UserWarning: Do not pass an `input_shape`/`input_dim` argument to a layer. When using Sequential models, prefer using an `Input(shape)` object as the first layer in the model instead.\n",
      "  super().__init__(activity_regularizer=activity_regularizer, **kwargs)\n"
     ]
    }
   ],
   "source": [
    "\n",
    "model = Sequential([\n",
    "    Conv2D(32, (3, 3), activation='relu', input_shape=(128, 128, 3)),\n",
    "    MaxPooling2D((2, 2)),\n",
    "    Conv2D(64, (3, 3), activation='relu'),\n",
    "    MaxPooling2D((2, 2)),\n",
    "    Flatten(),\n",
    "    Dense(128, activation='relu'),\n",
    "    Dropout(0.5),\n",
    "    Dense(2, activation='softmax')  # 2 classes: Cat and Dog\n",
    "])\n",
    "\n",
    "model.compile(optimizer='adam', loss='categorical_crossentropy', metrics=['accuracy'])\n"
   ]
  },
  {
   "cell_type": "code",
   "execution_count": 4,
   "id": "e65a98d6-c726-41ee-a1e6-4f3316c5c0dc",
   "metadata": {},
   "outputs": [
    {
     "name": "stdout",
     "output_type": "stream",
     "text": [
      "Epoch 1/10\n"
     ]
    },
    {
     "name": "stderr",
     "output_type": "stream",
     "text": [
      "D:\\New folder\\Lib\\site-packages\\keras\\src\\trainers\\data_adapters\\py_dataset_adapter.py:122: UserWarning: Your `PyDataset` class should call `super().__init__(**kwargs)` in its constructor. `**kwargs` can include `workers`, `use_multiprocessing`, `max_queue_size`. Do not pass these arguments to `fit()`, as they will be ignored.\n",
      "  self._warn_if_super_not_called()\n"
     ]
    },
    {
     "name": "stdout",
     "output_type": "stream",
     "text": [
      "\u001b[1m251/251\u001b[0m \u001b[32m━━━━━━━━━━━━━━━━━━━━\u001b[0m\u001b[37m\u001b[0m \u001b[1m101s\u001b[0m 389ms/step - accuracy: 0.5432 - loss: 0.7653 - val_accuracy: 0.6505 - val_loss: 0.6365\n",
      "Epoch 2/10\n",
      "\u001b[1m251/251\u001b[0m \u001b[32m━━━━━━━━━━━━━━━━━━━━\u001b[0m\u001b[37m\u001b[0m \u001b[1m97s\u001b[0m 380ms/step - accuracy: 0.6219 - loss: 0.6524 - val_accuracy: 0.6703 - val_loss: 0.6175\n",
      "Epoch 3/10\n",
      "\u001b[1m251/251\u001b[0m \u001b[32m━━━━━━━━━━━━━━━━━━━━\u001b[0m\u001b[37m\u001b[0m \u001b[1m100s\u001b[0m 393ms/step - accuracy: 0.6462 - loss: 0.6334 - val_accuracy: 0.7168 - val_loss: 0.5844\n",
      "Epoch 4/10\n",
      "\u001b[1m251/251\u001b[0m \u001b[32m━━━━━━━━━━━━━━━━━━━━\u001b[0m\u001b[37m\u001b[0m \u001b[1m101s\u001b[0m 396ms/step - accuracy: 0.6417 - loss: 0.6273 - val_accuracy: 0.7054 - val_loss: 0.5689\n",
      "Epoch 5/10\n",
      "\u001b[1m251/251\u001b[0m \u001b[32m━━━━━━━━━━━━━━━━━━━━\u001b[0m\u001b[37m\u001b[0m \u001b[1m100s\u001b[0m 395ms/step - accuracy: 0.6713 - loss: 0.6047 - val_accuracy: 0.7084 - val_loss: 0.5635\n",
      "Epoch 6/10\n",
      "\u001b[1m251/251\u001b[0m \u001b[32m━━━━━━━━━━━━━━━━━━━━\u001b[0m\u001b[37m\u001b[0m \u001b[1m100s\u001b[0m 395ms/step - accuracy: 0.6874 - loss: 0.5896 - val_accuracy: 0.7291 - val_loss: 0.5431\n",
      "Epoch 7/10\n",
      "\u001b[1m251/251\u001b[0m \u001b[32m━━━━━━━━━━━━━━━━━━━━\u001b[0m\u001b[37m\u001b[0m \u001b[1m100s\u001b[0m 395ms/step - accuracy: 0.7104 - loss: 0.5785 - val_accuracy: 0.7573 - val_loss: 0.5106\n",
      "Epoch 8/10\n",
      "\u001b[1m251/251\u001b[0m \u001b[32m━━━━━━━━━━━━━━━━━━━━\u001b[0m\u001b[37m\u001b[0m \u001b[1m101s\u001b[0m 398ms/step - accuracy: 0.6938 - loss: 0.5855 - val_accuracy: 0.7257 - val_loss: 0.5310\n",
      "Epoch 9/10\n",
      "\u001b[1m251/251\u001b[0m \u001b[32m━━━━━━━━━━━━━━━━━━━━\u001b[0m\u001b[37m\u001b[0m \u001b[1m101s\u001b[0m 397ms/step - accuracy: 0.7044 - loss: 0.5709 - val_accuracy: 0.7553 - val_loss: 0.4987\n",
      "Epoch 10/10\n",
      "\u001b[1m251/251\u001b[0m \u001b[32m━━━━━━━━━━━━━━━━━━━━\u001b[0m\u001b[37m\u001b[0m \u001b[1m101s\u001b[0m 397ms/step - accuracy: 0.7169 - loss: 0.5584 - val_accuracy: 0.7514 - val_loss: 0.5056\n"
     ]
    }
   ],
   "source": [
    "history = model.fit(\n",
    "    train_generator,\n",
    "    epochs=10,  \n",
    "    validation_data=test_generator,\n",
    ")\n"
   ]
  },
  {
   "cell_type": "code",
   "execution_count": 5,
   "id": "38955efc-f2ea-472f-9dec-52689adcb496",
   "metadata": {},
   "outputs": [
    {
     "name": "stdout",
     "output_type": "stream",
     "text": [
      "\u001b[1m64/64\u001b[0m \u001b[32m━━━━━━━━━━━━━━━━━━━━\u001b[0m\u001b[37m\u001b[0m \u001b[1m7s\u001b[0m 108ms/step - accuracy: 0.7552 - loss: 0.5009\n",
      "Test Accuracy: 0.75\n"
     ]
    }
   ],
   "source": [
    "loss, accuracy = model.evaluate(test_generator)\n",
    "print(f\"Test Accuracy: {accuracy:.2f}\")\n"
   ]
  },
  {
   "cell_type": "code",
   "execution_count": 6,
   "id": "1a3016cd-032d-41e3-a3fe-f2e5e265598b",
   "metadata": {},
   "outputs": [],
   "source": [
    "model.save(\"cat_dog_model.keras\")\n"
   ]
  },
  {
   "cell_type": "code",
   "execution_count": 7,
   "id": "fc0dd734-110b-480d-b33c-65e32161c9f5",
   "metadata": {},
   "outputs": [
    {
     "name": "stdout",
     "output_type": "stream",
     "text": [
      "C:\\Users\\Anil PC\n"
     ]
    }
   ],
   "source": [
    "import os\n",
    "print(os.getcwd())\n"
   ]
  },
  {
   "cell_type": "code",
   "execution_count": 8,
   "id": "82657f2e-a88f-4d96-8282-81413a147b1e",
   "metadata": {},
   "outputs": [],
   "source": [
    "from tensorflow.keras.models import load_model\n",
    "\n",
    "model = load_model(\"cat_dog_model.keras\")\n"
   ]
  },
  {
   "cell_type": "code",
   "execution_count": 9,
   "id": "da6f67c9-ddf1-4fb7-8cea-63629058700a",
   "metadata": {},
   "outputs": [
    {
     "name": "stdout",
     "output_type": "stream",
     "text": [
      "C:\\Users\\Anil PC\n"
     ]
    }
   ],
   "source": [
    "import os\n",
    "print(os.getcwd())\n"
   ]
  },
  {
   "cell_type": "code",
   "execution_count": 10,
   "id": "8557a67b-60d4-4326-a490-31ed1e0b4e4e",
   "metadata": {},
   "outputs": [
    {
     "name": "stdout",
     "output_type": "stream",
     "text": [
      "\u001b[1m1/1\u001b[0m \u001b[32m━━━━━━━━━━━━━━━━━━━━\u001b[0m\u001b[37m\u001b[0m \u001b[1m0s\u001b[0m 85ms/step\n",
      "Predicted Class: Dog\n",
      "Confidence: 0.75\n"
     ]
    }
   ],
   "source": [
    "import tensorflow as tf\n",
    "from tensorflow.keras.preprocessing.image import load_img, img_to_array\n",
    "import numpy as np\n",
    "\n",
    "def classify_image(image_path, model):\n",
    "    CLASS_NAMES = ['Cat', 'Dog']\n",
    "    \n",
    "    try:\n",
    "        image = load_img(image_path, target_size=(128, 128))  \n",
    "        image_array = img_to_array(image) / 255.0  \n",
    "        image_array = np.expand_dims(image_array, axis=0)  \n",
    "        \n",
    "        predictions = model.predict(image_array)\n",
    "        \n",
    "        predicted_class = CLASS_NAMES[np.argmax(predictions)]\n",
    "        confidence = np.max(predictions)\n",
    "        \n",
    "        return {\"predicted_class\": predicted_class, \"confidence\": confidence}\n",
    "    \n",
    "    except Exception as e:\n",
    "        return {\"error\": str(e)}\n",
    "\n",
    "result = classify_image(\"C:/Users/Anil PC/OneDrive/Desktop/ABiS/projects/tiger.jpg\", model)\n",
    "if \"error\" in result:\n",
    "    print(f\"Error: {result['error']}\")\n",
    "else:\n",
    "    print(f\"Predicted Class: {result['predicted_class']}\")\n",
    "    print(f\"Confidence: {result['confidence']:.2f}\")\n"
   ]
  },
  {
   "cell_type": "code",
   "execution_count": null,
   "id": "c094e272-fbe7-469a-ae93-5b050e774e48",
   "metadata": {},
   "outputs": [
    {
     "name": "stdout",
     "output_type": "stream",
     "text": [
      "\u001b[1m1/1\u001b[0m \u001b[32m━━━━━━━━━━━━━━━━━━━━\u001b[0m\u001b[37m\u001b[0m \u001b[1m0s\u001b[0m 72ms/step\n"
     ]
    }
   ],
   "source": [
    "import tkinter as tk\n",
    "from tkinter import filedialog, messagebox\n",
    "from PIL import Image, ImageTk\n",
    "import numpy as np\n",
    "import tensorflow as tf\n",
    "from tensorflow.keras.preprocessing.image import load_img, img_to_array\n",
    "\n",
    "def classify_image(image_path, model):\n",
    "    CLASS_NAMES = ['Cat', 'Dog']\n",
    "    try:\n",
    "        image = load_img(image_path, target_size=(128, 128))\n",
    "        image_array = img_to_array(image) / 255.0\n",
    "        image_array = np.expand_dims(image_array, axis=0)\n",
    "        predictions = model.predict(image_array)\n",
    "        predicted_class = CLASS_NAMES[np.argmax(predictions)]\n",
    "        confidence = np.max(predictions)\n",
    "        return {\"predicted_class\": predicted_class, \"confidence\": confidence}\n",
    "    except Exception as e:\n",
    "        return {\"error\": str(e)}\n",
    "\n",
    "def open_file():\n",
    "    file_path = filedialog.askopenfilename(title=\"Select an Image\", filetypes=[(\"Image Files\", \"*.jpg;*.jpeg;*.png\")])\n",
    "    if file_path:\n",
    "        try:\n",
    "            image = Image.open(file_path)\n",
    "            image = image.resize((200, 200))\n",
    "            photo = ImageTk.PhotoImage(image)\n",
    "            label_image.config(image=photo)\n",
    "            label_image.image = photo\n",
    "            result = classify_image(file_path, model)\n",
    "            if \"error\" in result:\n",
    "                messagebox.showerror(\"Error\", result[\"error\"])\n",
    "            else:\n",
    "                label_result.config(text=f\"Predicted: {result['predicted_class']}\\nConfidence: {result['confidence']*100:.2f}%\")\n",
    "        except Exception as e:\n",
    "            messagebox.showerror(\"Error\", f\"Error loading image: {e}\")\n",
    "\n",
    "root = tk.Tk()\n",
    "root.title(\"Cat vs Dog Classifier\")\n",
    "root.geometry(\"400x500\")\n",
    "root.resizable(True, True)\n",
    "\n",
    "model = tf.keras.models.load_model('C:/Users/Anil PC/cat_dog_model.keras')\n",
    "\n",
    "label_title = tk.Label(root, text=\"Cat or Dog Classifier\", font=(\"Helvetica\", 16), fg='black')\n",
    "label_title.pack(pady=20)\n",
    "\n",
    "label_image = tk.Label(root, bg='white', borderwidth=2, relief=\"solid\")\n",
    "label_image.pack(pady=20)\n",
    "\n",
    "button_upload = tk.Button(root, text=\"Upload Image\", command=open_file, font=(\"Helvetica\", 12), fg='white', bg='#007BFF', relief=\"raised\", bd=5)\n",
    "button_upload.pack(pady=10)\n",
    "\n",
    "label_result = tk.Label(root, text=\"Prediction Result\", font=(\"Helvetica\", 12), fg='black')\n",
    "label_result.pack(pady=20)\n",
    "\n",
    "root.mainloop()\n"
   ]
  },
  {
   "cell_type": "code",
   "execution_count": null,
   "id": "bb0dcf80-0e36-434d-98f8-1282d08613f9",
   "metadata": {},
   "outputs": [],
   "source": []
  },
  {
   "cell_type": "code",
   "execution_count": null,
   "id": "b7076268-c247-4835-af67-9de7550af781",
   "metadata": {},
   "outputs": [],
   "source": []
  }
 ],
 "metadata": {
  "kernelspec": {
   "display_name": "Python 3 (ipykernel)",
   "language": "python",
   "name": "python3"
  },
  "language_info": {
   "codemirror_mode": {
    "name": "ipython",
    "version": 3
   },
   "file_extension": ".py",
   "mimetype": "text/x-python",
   "name": "python",
   "nbconvert_exporter": "python",
   "pygments_lexer": "ipython3",
   "version": "3.11.7"
  }
 },
 "nbformat": 4,
 "nbformat_minor": 5
}
